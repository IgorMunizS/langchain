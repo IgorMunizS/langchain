{
 "cells": [
  {
   "cell_type": "markdown",
   "metadata": {},
   "source": [
    "# Dappier AI"
   ]
  },
  {
   "cell_type": "markdown",
   "metadata": {},
   "source": [
    "`Dappier` is a platform enabling access to diverse, real-time data models. Enhance your AI applications with Dappier's pre-trained, LLM-ready data models and ensure accurate, current responses with reduced inaccuracies. \n",
    "\n",
    "#### Connect your data\n",
    "\n",
    "Safely integrate your proprietary dataset or content with Dappier's multi-tenant infrastructure. Your data stays exclusively your own.\n",
    "\n",
    "#### Set your price\n",
    "\n",
    "Price your content. This can include subscription access, pay-per-query, or ad supported ensuring you retain control over your data's value.\n",
    "\n",
    "\n",
    "#### Publish your AI model\n",
    "\n",
    "Extend your AI presence with branded chatbot widgets that work seamlessly on your websites, or publish your data model to our Marketplace.\n",
    "\n",
    "\n",
    "#### Partners pay you\n",
    "\n",
    "Start making money on your terms when AI and LLM partners engage with your content. Fight against data scraping effectively.\n",
    "\n",
    "\n",
    "**website: https://dappier.com/**"
   ]
  },
  {
   "cell_type": "markdown",
   "metadata": {},
   "source": [
    "This example goes over how to use LangChain to interact with Dappier AI models\n",
    "\n",
    "-----------------------------------------------------------------------------------"
   ]
  },
  {
   "cell_type": "markdown",
   "metadata": {},
   "source": [
    "To use one of our Dappier AI Data Models, you will need an API key. Please visit Dappier Platform (https://platform.dappier.com/) to log in and create an API key in your profile.\n",
    "\n",
    "\n",
    "You can find more details on the API reference : https://docs.dappier.com/introduction"
   ]
  },
  {
   "cell_type": "markdown",
   "metadata": {},
   "source": [
    "To work with our Dappier Chat Model you can pass the key directly through the parameter named dappier_api_key when initiating the class\n",
    "or set as an environment variable.\n",
    "\n",
    "```bash\n",
    "export DAPPIER_API_KEY=\"...\"\n",
    "```\n"
   ]
  },
  {
   "cell_type": "code",
   "execution_count": 2,
   "metadata": {},
   "outputs": [],
   "source": [
    "from langchain_community.chat_models.dappier import ChatDappierAI\n",
    "from langchain_core.messages import HumanMessage"
   ]
  },
  {
   "cell_type": "code",
   "execution_count": 7,
   "metadata": {},
   "outputs": [],
   "source": [
    "chat = ChatDappierAI(\n",
    "    dappier_endpoint=\"http://localhost:3000/app/datamodelconversation\",\n",
    "    dappier_model=\"dm_01hpsxyfm2fwdt2zet9cg6fdxt\",\n",
    "    dappier_api_key=\"...\"\n",
    ")"
   ]
  },
  {
   "cell_type": "code",
   "execution_count": 8,
   "metadata": {},
   "outputs": [
    {
     "data": {
      "text/plain": [
       "AIMessage(content='Hey there! The Kansas City Chiefs won Super Bowl LVIII in 2024. They beat the San Francisco 49ers in overtime with a final score of 25-22. It was quite the game! 🏈')"
      ]
     },
     "execution_count": 8,
     "metadata": {},
     "output_type": "execute_result"
    }
   ],
   "source": [
    "messages = [HumanMessage(content=\"Who won the super bowl in 2024?\")]\n",
    "chat.invoke(messages)"
   ]
  },
  {
   "cell_type": "code",
   "execution_count": 9,
   "metadata": {},
   "outputs": [
    {
     "data": {
      "text/plain": [
       "AIMessage(content='The Kansas City Chiefs won Super Bowl LVIII in 2024! 🏈')"
      ]
     },
     "execution_count": 9,
     "metadata": {},
     "output_type": "execute_result"
    }
   ],
   "source": [
    "await chat.ainvoke(messages)"
   ]
  },
  {
   "cell_type": "code",
   "execution_count": null,
   "metadata": {},
   "outputs": [],
   "source": []
  },
  {
   "cell_type": "code",
   "execution_count": null,
   "metadata": {},
   "outputs": [],
   "source": []
  }
 ],
 "metadata": {
  "kernelspec": {
   "display_name": "Python 3 (ipykernel)",
   "language": "python",
   "name": "python3"
  },
  "language_info": {
   "codemirror_mode": {
    "name": "ipython",
    "version": 3
   },
   "file_extension": ".py",
   "mimetype": "text/x-python",
   "name": "python",
   "nbconvert_exporter": "python",
   "pygments_lexer": "ipython3",
   "version": "3.9.15"
  }
 },
 "nbformat": 4,
 "nbformat_minor": 4
}
